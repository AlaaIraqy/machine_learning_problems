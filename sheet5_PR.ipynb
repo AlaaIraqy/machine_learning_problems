{
  "nbformat": 4,
  "nbformat_minor": 0,
  "metadata": {
    "colab": {
      "name": "sheet5_PR.ipynb",
      "provenance": [],
      "collapsed_sections": [],
      "authorship_tag": "ABX9TyOxQSBRfHDbcd5IvwBrEgyB",
      "include_colab_link": true
    },
    "kernelspec": {
      "name": "python3",
      "display_name": "Python 3"
    },
    "language_info": {
      "name": "python"
    }
  },
  "cells": [
    {
      "cell_type": "markdown",
      "metadata": {
        "id": "view-in-github",
        "colab_type": "text"
      },
      "source": [
        "<a href=\"https://colab.research.google.com/github/AlaaIraqy/machine_learning_problems/blob/main/sheet5_PR.ipynb\" target=\"_parent\"><img src=\"https://colab.research.google.com/assets/colab-badge.svg\" alt=\"Open In Colab\"/></a>"
      ]
    },
    {
      "cell_type": "code",
      "metadata": {
        "colab": {
          "base_uri": "https://localhost:8080/"
        },
        "id": "j7a9kicKkNS_",
        "outputId": "52f37aa3-d1d0-4f9b-dfa8-6d4e571e8527"
      },
      "source": [
        "import os\n",
        "os.chdir('/content')\n",
        "!pip install --upgrade --force-reinstall --no-deps kaggle"
      ],
      "execution_count": null,
      "outputs": [
        {
          "output_type": "stream",
          "text": [
            "Collecting kaggle\n",
            "\u001b[?25l  Downloading https://files.pythonhosted.org/packages/3a/e7/3bac01547d2ed3d308ac92a0878fbdb0ed0f3d41fb1906c319ccbba1bfbc/kaggle-1.5.12.tar.gz (58kB)\n",
            "\r\u001b[K     |█████▋                          | 10kB 14.9MB/s eta 0:00:01\r\u001b[K     |███████████▏                    | 20kB 20.7MB/s eta 0:00:01\r\u001b[K     |████████████████▊               | 30kB 18.4MB/s eta 0:00:01\r\u001b[K     |██████████████████████▎         | 40kB 15.7MB/s eta 0:00:01\r\u001b[K     |███████████████████████████▉    | 51kB 8.4MB/s eta 0:00:01\r\u001b[K     |████████████████████████████████| 61kB 3.8MB/s \n",
            "\u001b[?25hBuilding wheels for collected packages: kaggle\n",
            "  Building wheel for kaggle (setup.py) ... \u001b[?25l\u001b[?25hdone\n",
            "  Created wheel for kaggle: filename=kaggle-1.5.12-cp37-none-any.whl size=73053 sha256=c88489d5a2c610292c791c191206ba9a55b1ae7f11d0b5527a6c0517c1be79ca\n",
            "  Stored in directory: /root/.cache/pip/wheels/a1/6a/26/d30b7499ff85a4a4593377a87ecf55f7d08af42f0de9b60303\n",
            "Successfully built kaggle\n",
            "Installing collected packages: kaggle\n",
            "  Found existing installation: kaggle 1.5.12\n",
            "    Uninstalling kaggle-1.5.12:\n",
            "      Successfully uninstalled kaggle-1.5.12\n",
            "Successfully installed kaggle-1.5.12\n"
          ],
          "name": "stdout"
        }
      ]
    },
    {
      "cell_type": "code",
      "metadata": {
        "colab": {
          "resources": {
            "http://localhost:8080/nbextensions/google.colab/files.js": {
              "data": "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",
              "ok": true,
              "headers": [
                [
                  "content-type",
                  "application/javascript"
                ]
              ],
              "status": 200,
              "status_text": ""
            }
          },
          "base_uri": "https://localhost:8080/",
          "height": 91
        },
        "id": "p_UsrbEx9_5u",
        "outputId": "1066b04e-f54e-4ca9-99e6-9dfb96b644e4"
      },
      "source": [
        "from google.colab import files\n",
        "files.upload()"
      ],
      "execution_count": null,
      "outputs": [
        {
          "output_type": "display_data",
          "data": {
            "text/html": [
              "\n",
              "     <input type=\"file\" id=\"files-585eba19-7b82-4e1e-a0b7-46682dfbf1a2\" name=\"files[]\" multiple disabled\n",
              "        style=\"border:none\" />\n",
              "     <output id=\"result-585eba19-7b82-4e1e-a0b7-46682dfbf1a2\">\n",
              "      Upload widget is only available when the cell has been executed in the\n",
              "      current browser session. Please rerun this cell to enable.\n",
              "      </output>\n",
              "      <script src=\"/nbextensions/google.colab/files.js\"></script> "
            ],
            "text/plain": [
              "<IPython.core.display.HTML object>"
            ]
          },
          "metadata": {
            "tags": []
          }
        },
        {
          "output_type": "stream",
          "text": [
            "Saving kaggle.json to kaggle.json\n"
          ],
          "name": "stdout"
        },
        {
          "output_type": "execute_result",
          "data": {
            "text/plain": [
              "{'kaggle.json': b'{\"username\":\"mohamed99ayman\",\"key\":\"ae3067e356d2194f37db76ae8c3d45d4\"}'}"
            ]
          },
          "metadata": {
            "tags": []
          },
          "execution_count": 4
        }
      ]
    },
    {
      "cell_type": "code",
      "metadata": {
        "id": "7iMs0DYm-Eti",
        "colab": {
          "base_uri": "https://localhost:8080/"
        },
        "outputId": "71d9ee99-d0a5-48be-ae54-2623d7deaca5"
      },
      "source": [
        "! mkdir ~/.kaggle\n",
        "! cp kaggle.json ~/.kaggle/"
      ],
      "execution_count": null,
      "outputs": [
        {
          "output_type": "stream",
          "text": [
            "mkdir: cannot create directory ‘/root/.kaggle’: File exists\n"
          ],
          "name": "stdout"
        }
      ]
    },
    {
      "cell_type": "code",
      "metadata": {
        "id": "kmlbn8W--O_t"
      },
      "source": [
        "! chmod 600 ~/.kaggle/kaggle.json"
      ],
      "execution_count": null,
      "outputs": []
    },
    {
      "cell_type": "code",
      "metadata": {
        "colab": {
          "base_uri": "https://localhost:8080/"
        },
        "id": "iUD1Lw-v-RmE",
        "outputId": "70c3b587-2a89-425f-cfee-99f256acac7f"
      },
      "source": [
        "! kaggle datasets list"
      ],
      "execution_count": null,
      "outputs": [
        {
          "output_type": "stream",
          "text": [
            "ref                                                         title                                              size  lastUpdated          downloadCount  voteCount  usabilityRating  \n",
            "----------------------------------------------------------  ------------------------------------------------  -----  -------------------  -------------  ---------  ---------------  \n",
            "gpreda/reddit-vaccine-myths                                 Reddit Vaccine Myths                              229KB  2021-06-01 11:18:46           6844        609  1.0              \n",
            "crowww/a-large-scale-fish-dataset                           A Large Scale Fish Dataset                          3GB  2021-04-28 17:03:01           4093        343  0.9375           \n",
            "imsparsh/musicnet-dataset                                   MusicNet Dataset                                   22GB  2021-02-18 14:12:19           1370        120  1.0              \n",
            "dhruvildave/wikibooks-dataset                               Wikibooks Dataset                                   1GB  2021-02-18 10:08:27           2129        153  1.0              \n",
            "mathurinache/twitter-edge-nodes                             Twitter Edge Nodes                                342MB  2021-03-08 06:43:04            459         52  1.0              \n",
            "fatiimaezzahra/famous-iconic-women                          Famous Iconic Women                               838MB  2021-02-28 14:56:00            690         55  0.75             \n",
            "promptcloud/careerbuilder-job-listing-2020                  Careerbuilder Job Listing 2020                     42MB  2021-03-05 06:59:52            982         40  1.0              \n",
            "alsgroup/end-als                                            End ALS Kaggle Challenge                           12GB  2021-04-08 12:16:37            698        100  0.9375           \n",
            "coloradokb/dandelionimages                                  DandelionImages                                     4GB  2021-02-19 20:03:47            415         22  0.75             \n",
            "nickuzmenkov/nih-chest-xrays-tfrecords                      NIH Chest X-rays TFRecords                         11GB  2021-03-09 04:49:23            554         29  0.9411765        \n",
            "simiotic/github-code-snippets                               GitHub Code Snippets                                7GB  2021-03-03 11:34:39            146         47  1.0              \n",
            "mathurinache/the-lj-speech-dataset                          The LJ Speech Dataset                               3GB  2021-02-15 09:19:54            170         35  1.0              \n",
            "stuartjames/lights                                          LightS: Light Specularity Dataset                  18GB  2021-02-18 14:32:26             66         23  0.6875           \n",
            "landrykezebou/lvzhdr-tone-mapping-benchmark-dataset-tmonet  LVZ-HDR Tone Mapping Benchmark Dataset (TMO-Net)   24GB  2021-03-01 05:03:40             84         16  0.6875           \n",
            "nickuzmenkov/ranzcr-clip-kfold-tfrecords                    RANZCR CLiP KFold TFRecords                         2GB  2021-02-21 13:29:51             82         19  0.875            \n",
            "imsparsh/accentdb-core-extended                             AccentDB - Core & Extended                          6GB  2021-02-17 14:22:54             78         22  0.8125           \n",
            "datasnaek/youtube-new                                       Trending YouTube Video Statistics                 201MB  2019-06-03 00:56:47         141765       3987  0.7941176        \n",
            "zynicide/wine-reviews                                       Wine Reviews                                       51MB  2017-11-27 17:08:04         137858       3082  0.7941176        \n",
            "residentmario/ramen-ratings                                 Ramen Ratings                                      40KB  2018-01-11 16:04:39          23647        578  0.7058824        \n",
            "datasnaek/chess                                             Chess Game Dataset (Lichess)                        3MB  2017-09-04 03:09:09          18939        732  0.8235294        \n"
          ],
          "name": "stdout"
        }
      ]
    },
    {
      "cell_type": "code",
      "metadata": {
        "colab": {
          "base_uri": "https://localhost:8080/"
        },
        "id": "ghcSj-MQ-UQ9",
        "outputId": "6055a6f9-3c80-47db-f056-6819a067e00b"
      },
      "source": [
        "import os\n",
        "os.chdir('/content')\n",
        "! kaggle datasets download kasikrit/att-database-of-faces"
      ],
      "execution_count": null,
      "outputs": [
        {
          "output_type": "stream",
          "text": [
            "Downloading att-database-of-faces.zip to /content\n",
            "\r  0% 0.00/3.61M [00:00<?, ?B/s]\n",
            "\r100% 3.61M/3.61M [00:00<00:00, 179MB/s]\n"
          ],
          "name": "stdout"
        }
      ]
    },
    {
      "cell_type": "code",
      "metadata": {
        "colab": {
          "base_uri": "https://localhost:8080/"
        },
        "id": "EHbh9RmF-X06",
        "outputId": "37f7d23a-c8f7-4a2b-fc87-146e99c89fd2"
      },
      "source": [
        " os.chdir('/content')\n",
        " ! mkdir ORL\n",
        " ! unzip att-database-of-faces.zip -d ORL\n"
      ],
      "execution_count": null,
      "outputs": [
        {
          "output_type": "stream",
          "text": [
            "Archive:  att-database-of-faces.zip\n",
            "  inflating: ORL/README              \n",
            "  inflating: ORL/s1/1.pgm            \n",
            "  inflating: ORL/s1/10.pgm           \n",
            "  inflating: ORL/s1/2.pgm            \n",
            "  inflating: ORL/s1/3.pgm            \n",
            "  inflating: ORL/s1/4.pgm            \n",
            "  inflating: ORL/s1/5.pgm            \n",
            "  inflating: ORL/s1/6.pgm            \n",
            "  inflating: ORL/s1/7.pgm            \n",
            "  inflating: ORL/s1/8.pgm            \n",
            "  inflating: ORL/s1/9.pgm            \n",
            "  inflating: ORL/s10/1.pgm           \n",
            "  inflating: ORL/s10/10.pgm          \n",
            "  inflating: ORL/s10/2.pgm           \n",
            "  inflating: ORL/s10/3.pgm           \n",
            "  inflating: ORL/s10/4.pgm           \n",
            "  inflating: ORL/s10/5.pgm           \n",
            "  inflating: ORL/s10/6.pgm           \n",
            "  inflating: ORL/s10/7.pgm           \n",
            "  inflating: ORL/s10/8.pgm           \n",
            "  inflating: ORL/s10/9.pgm           \n",
            "  inflating: ORL/s11/1.pgm           \n",
            "  inflating: ORL/s11/10.pgm          \n",
            "  inflating: ORL/s11/2.pgm           \n",
            "  inflating: ORL/s11/3.pgm           \n",
            "  inflating: ORL/s11/4.pgm           \n",
            "  inflating: ORL/s11/5.pgm           \n",
            "  inflating: ORL/s11/6.pgm           \n",
            "  inflating: ORL/s11/7.pgm           \n",
            "  inflating: ORL/s11/8.pgm           \n",
            "  inflating: ORL/s11/9.pgm           \n",
            "  inflating: ORL/s12/1.pgm           \n",
            "  inflating: ORL/s12/10.pgm          \n",
            "  inflating: ORL/s12/2.pgm           \n",
            "  inflating: ORL/s12/3.pgm           \n",
            "  inflating: ORL/s12/4.pgm           \n",
            "  inflating: ORL/s12/5.pgm           \n",
            "  inflating: ORL/s12/6.pgm           \n",
            "  inflating: ORL/s12/7.pgm           \n",
            "  inflating: ORL/s12/8.pgm           \n",
            "  inflating: ORL/s12/9.pgm           \n",
            "  inflating: ORL/s13/1.pgm           \n",
            "  inflating: ORL/s13/10.pgm          \n",
            "  inflating: ORL/s13/2.pgm           \n",
            "  inflating: ORL/s13/3.pgm           \n",
            "  inflating: ORL/s13/4.pgm           \n",
            "  inflating: ORL/s13/5.pgm           \n",
            "  inflating: ORL/s13/6.pgm           \n",
            "  inflating: ORL/s13/7.pgm           \n",
            "  inflating: ORL/s13/8.pgm           \n",
            "  inflating: ORL/s13/9.pgm           \n",
            "  inflating: ORL/s14/1.pgm           \n",
            "  inflating: ORL/s14/10.pgm          \n",
            "  inflating: ORL/s14/2.pgm           \n",
            "  inflating: ORL/s14/3.pgm           \n",
            "  inflating: ORL/s14/4.pgm           \n",
            "  inflating: ORL/s14/5.pgm           \n",
            "  inflating: ORL/s14/6.pgm           \n",
            "  inflating: ORL/s14/7.pgm           \n",
            "  inflating: ORL/s14/8.pgm           \n",
            "  inflating: ORL/s14/9.pgm           \n",
            "  inflating: ORL/s15/1.pgm           \n",
            "  inflating: ORL/s15/10.pgm          \n",
            "  inflating: ORL/s15/2.pgm           \n",
            "  inflating: ORL/s15/3.pgm           \n",
            "  inflating: ORL/s15/4.pgm           \n",
            "  inflating: ORL/s15/5.pgm           \n",
            "  inflating: ORL/s15/6.pgm           \n",
            "  inflating: ORL/s15/7.pgm           \n",
            "  inflating: ORL/s15/8.pgm           \n",
            "  inflating: ORL/s15/9.pgm           \n",
            "  inflating: ORL/s16/1.pgm           \n",
            "  inflating: ORL/s16/10.pgm          \n",
            "  inflating: ORL/s16/2.pgm           \n",
            "  inflating: ORL/s16/3.pgm           \n",
            "  inflating: ORL/s16/4.pgm           \n",
            "  inflating: ORL/s16/5.pgm           \n",
            "  inflating: ORL/s16/6.pgm           \n",
            "  inflating: ORL/s16/7.pgm           \n",
            "  inflating: ORL/s16/8.pgm           \n",
            "  inflating: ORL/s16/9.pgm           \n",
            "  inflating: ORL/s17/1.pgm           \n",
            "  inflating: ORL/s17/10.pgm          \n",
            "  inflating: ORL/s17/2.pgm           \n",
            "  inflating: ORL/s17/3.pgm           \n",
            "  inflating: ORL/s17/4.pgm           \n",
            "  inflating: ORL/s17/5.pgm           \n",
            "  inflating: ORL/s17/6.pgm           \n",
            "  inflating: ORL/s17/7.pgm           \n",
            "  inflating: ORL/s17/8.pgm           \n",
            "  inflating: ORL/s17/9.pgm           \n",
            "  inflating: ORL/s18/1.pgm           \n",
            "  inflating: ORL/s18/10.pgm          \n",
            "  inflating: ORL/s18/2.pgm           \n",
            "  inflating: ORL/s18/3.pgm           \n",
            "  inflating: ORL/s18/4.pgm           \n",
            "  inflating: ORL/s18/5.pgm           \n",
            "  inflating: ORL/s18/6.pgm           \n",
            "  inflating: ORL/s18/7.pgm           \n",
            "  inflating: ORL/s18/8.pgm           \n",
            "  inflating: ORL/s18/9.pgm           \n",
            "  inflating: ORL/s19/1.pgm           \n",
            "  inflating: ORL/s19/10.pgm          \n",
            "  inflating: ORL/s19/2.pgm           \n",
            "  inflating: ORL/s19/3.pgm           \n",
            "  inflating: ORL/s19/4.pgm           \n",
            "  inflating: ORL/s19/5.pgm           \n",
            "  inflating: ORL/s19/6.pgm           \n",
            "  inflating: ORL/s19/7.pgm           \n",
            "  inflating: ORL/s19/8.pgm           \n",
            "  inflating: ORL/s19/9.pgm           \n",
            "  inflating: ORL/s2/1.pgm            \n",
            "  inflating: ORL/s2/10.pgm           \n",
            "  inflating: ORL/s2/2.pgm            \n",
            "  inflating: ORL/s2/3.pgm            \n",
            "  inflating: ORL/s2/4.pgm            \n",
            "  inflating: ORL/s2/5.pgm            \n",
            "  inflating: ORL/s2/6.pgm            \n",
            "  inflating: ORL/s2/7.pgm            \n",
            "  inflating: ORL/s2/8.pgm            \n",
            "  inflating: ORL/s2/9.pgm            \n",
            "  inflating: ORL/s20/1.pgm           \n",
            "  inflating: ORL/s20/10.pgm          \n",
            "  inflating: ORL/s20/2.pgm           \n",
            "  inflating: ORL/s20/3.pgm           \n",
            "  inflating: ORL/s20/4.pgm           \n",
            "  inflating: ORL/s20/5.pgm           \n",
            "  inflating: ORL/s20/6.pgm           \n",
            "  inflating: ORL/s20/7.pgm           \n",
            "  inflating: ORL/s20/8.pgm           \n",
            "  inflating: ORL/s20/9.pgm           \n",
            "  inflating: ORL/s21/1.pgm           \n",
            "  inflating: ORL/s21/10.pgm          \n",
            "  inflating: ORL/s21/2.pgm           \n",
            "  inflating: ORL/s21/3.pgm           \n",
            "  inflating: ORL/s21/4.pgm           \n",
            "  inflating: ORL/s21/5.pgm           \n",
            "  inflating: ORL/s21/6.pgm           \n",
            "  inflating: ORL/s21/7.pgm           \n",
            "  inflating: ORL/s21/8.pgm           \n",
            "  inflating: ORL/s21/9.pgm           \n",
            "  inflating: ORL/s22/1.pgm           \n",
            "  inflating: ORL/s22/10.pgm          \n",
            "  inflating: ORL/s22/2.pgm           \n",
            "  inflating: ORL/s22/3.pgm           \n",
            "  inflating: ORL/s22/4.pgm           \n",
            "  inflating: ORL/s22/5.pgm           \n",
            "  inflating: ORL/s22/6.pgm           \n",
            "  inflating: ORL/s22/7.pgm           \n",
            "  inflating: ORL/s22/8.pgm           \n",
            "  inflating: ORL/s22/9.pgm           \n",
            "  inflating: ORL/s23/1.pgm           \n",
            "  inflating: ORL/s23/10.pgm          \n",
            "  inflating: ORL/s23/2.pgm           \n",
            "  inflating: ORL/s23/3.pgm           \n",
            "  inflating: ORL/s23/4.pgm           \n",
            "  inflating: ORL/s23/5.pgm           \n",
            "  inflating: ORL/s23/6.pgm           \n",
            "  inflating: ORL/s23/7.pgm           \n",
            "  inflating: ORL/s23/8.pgm           \n",
            "  inflating: ORL/s23/9.pgm           \n",
            "  inflating: ORL/s24/1.pgm           \n",
            "  inflating: ORL/s24/10.pgm          \n",
            "  inflating: ORL/s24/2.pgm           \n",
            "  inflating: ORL/s24/3.pgm           \n",
            "  inflating: ORL/s24/4.pgm           \n",
            "  inflating: ORL/s24/5.pgm           \n",
            "  inflating: ORL/s24/6.pgm           \n",
            "  inflating: ORL/s24/7.pgm           \n",
            "  inflating: ORL/s24/8.pgm           \n",
            "  inflating: ORL/s24/9.pgm           \n",
            "  inflating: ORL/s25/1.pgm           \n",
            "  inflating: ORL/s25/10.pgm          \n",
            "  inflating: ORL/s25/2.pgm           \n",
            "  inflating: ORL/s25/3.pgm           \n",
            "  inflating: ORL/s25/4.pgm           \n",
            "  inflating: ORL/s25/5.pgm           \n",
            "  inflating: ORL/s25/6.pgm           \n",
            "  inflating: ORL/s25/7.pgm           \n",
            "  inflating: ORL/s25/8.pgm           \n",
            "  inflating: ORL/s25/9.pgm           \n",
            "  inflating: ORL/s26/1.pgm           \n",
            "  inflating: ORL/s26/10.pgm          \n",
            "  inflating: ORL/s26/2.pgm           \n",
            "  inflating: ORL/s26/3.pgm           \n",
            "  inflating: ORL/s26/4.pgm           \n",
            "  inflating: ORL/s26/5.pgm           \n",
            "  inflating: ORL/s26/6.pgm           \n",
            "  inflating: ORL/s26/7.pgm           \n",
            "  inflating: ORL/s26/8.pgm           \n",
            "  inflating: ORL/s26/9.pgm           \n",
            "  inflating: ORL/s27/1.pgm           \n",
            "  inflating: ORL/s27/10.pgm          \n",
            "  inflating: ORL/s27/2.pgm           \n",
            "  inflating: ORL/s27/3.pgm           \n",
            "  inflating: ORL/s27/4.pgm           \n",
            "  inflating: ORL/s27/5.pgm           \n",
            "  inflating: ORL/s27/6.pgm           \n",
            "  inflating: ORL/s27/7.pgm           \n",
            "  inflating: ORL/s27/8.pgm           \n",
            "  inflating: ORL/s27/9.pgm           \n",
            "  inflating: ORL/s28/1.pgm           \n",
            "  inflating: ORL/s28/10.pgm          \n",
            "  inflating: ORL/s28/2.pgm           \n",
            "  inflating: ORL/s28/3.pgm           \n",
            "  inflating: ORL/s28/4.pgm           \n",
            "  inflating: ORL/s28/5.pgm           \n",
            "  inflating: ORL/s28/6.pgm           \n",
            "  inflating: ORL/s28/7.pgm           \n",
            "  inflating: ORL/s28/8.pgm           \n",
            "  inflating: ORL/s28/9.pgm           \n",
            "  inflating: ORL/s29/1.pgm           \n",
            "  inflating: ORL/s29/10.pgm          \n",
            "  inflating: ORL/s29/2.pgm           \n",
            "  inflating: ORL/s29/3.pgm           \n",
            "  inflating: ORL/s29/4.pgm           \n",
            "  inflating: ORL/s29/5.pgm           \n",
            "  inflating: ORL/s29/6.pgm           \n",
            "  inflating: ORL/s29/7.pgm           \n",
            "  inflating: ORL/s29/8.pgm           \n",
            "  inflating: ORL/s29/9.pgm           \n",
            "  inflating: ORL/s3/1.pgm            \n",
            "  inflating: ORL/s3/10.pgm           \n",
            "  inflating: ORL/s3/2.pgm            \n",
            "  inflating: ORL/s3/3.pgm            \n",
            "  inflating: ORL/s3/4.pgm            \n",
            "  inflating: ORL/s3/5.pgm            \n",
            "  inflating: ORL/s3/6.pgm            \n",
            "  inflating: ORL/s3/7.pgm            \n",
            "  inflating: ORL/s3/8.pgm            \n",
            "  inflating: ORL/s3/9.pgm            \n",
            "  inflating: ORL/s30/1.pgm           \n",
            "  inflating: ORL/s30/10.pgm          \n",
            "  inflating: ORL/s30/2.pgm           \n",
            "  inflating: ORL/s30/3.pgm           \n",
            "  inflating: ORL/s30/4.pgm           \n",
            "  inflating: ORL/s30/5.pgm           \n",
            "  inflating: ORL/s30/6.pgm           \n",
            "  inflating: ORL/s30/7.pgm           \n",
            "  inflating: ORL/s30/8.pgm           \n",
            "  inflating: ORL/s30/9.pgm           \n",
            "  inflating: ORL/s31/1.pgm           \n",
            "  inflating: ORL/s31/10.pgm          \n",
            "  inflating: ORL/s31/2.pgm           \n",
            "  inflating: ORL/s31/3.pgm           \n",
            "  inflating: ORL/s31/4.pgm           \n",
            "  inflating: ORL/s31/5.pgm           \n",
            "  inflating: ORL/s31/6.pgm           \n",
            "  inflating: ORL/s31/7.pgm           \n",
            "  inflating: ORL/s31/8.pgm           \n",
            "  inflating: ORL/s31/9.pgm           \n",
            "  inflating: ORL/s32/1.pgm           \n",
            "  inflating: ORL/s32/10.pgm          \n",
            "  inflating: ORL/s32/2.pgm           \n",
            "  inflating: ORL/s32/3.pgm           \n",
            "  inflating: ORL/s32/4.pgm           \n",
            "  inflating: ORL/s32/5.pgm           \n",
            "  inflating: ORL/s32/6.pgm           \n",
            "  inflating: ORL/s32/7.pgm           \n",
            "  inflating: ORL/s32/8.pgm           \n",
            "  inflating: ORL/s32/9.pgm           \n",
            "  inflating: ORL/s33/1.pgm           \n",
            "  inflating: ORL/s33/10.pgm          \n",
            "  inflating: ORL/s33/2.pgm           \n",
            "  inflating: ORL/s33/3.pgm           \n",
            "  inflating: ORL/s33/4.pgm           \n",
            "  inflating: ORL/s33/5.pgm           \n",
            "  inflating: ORL/s33/6.pgm           \n",
            "  inflating: ORL/s33/7.pgm           \n",
            "  inflating: ORL/s33/8.pgm           \n",
            "  inflating: ORL/s33/9.pgm           \n",
            "  inflating: ORL/s34/1.pgm           \n",
            "  inflating: ORL/s34/10.pgm          \n",
            "  inflating: ORL/s34/2.pgm           \n",
            "  inflating: ORL/s34/3.pgm           \n",
            "  inflating: ORL/s34/4.pgm           \n",
            "  inflating: ORL/s34/5.pgm           \n",
            "  inflating: ORL/s34/6.pgm           \n",
            "  inflating: ORL/s34/7.pgm           \n",
            "  inflating: ORL/s34/8.pgm           \n",
            "  inflating: ORL/s34/9.pgm           \n",
            "  inflating: ORL/s35/1.pgm           \n",
            "  inflating: ORL/s35/10.pgm          \n",
            "  inflating: ORL/s35/2.pgm           \n",
            "  inflating: ORL/s35/3.pgm           \n",
            "  inflating: ORL/s35/4.pgm           \n",
            "  inflating: ORL/s35/5.pgm           \n",
            "  inflating: ORL/s35/6.pgm           \n",
            "  inflating: ORL/s35/7.pgm           \n",
            "  inflating: ORL/s35/8.pgm           \n",
            "  inflating: ORL/s35/9.pgm           \n",
            "  inflating: ORL/s36/1.pgm           \n",
            "  inflating: ORL/s36/10.pgm          \n",
            "  inflating: ORL/s36/2.pgm           \n",
            "  inflating: ORL/s36/3.pgm           \n",
            "  inflating: ORL/s36/4.pgm           \n",
            "  inflating: ORL/s36/5.pgm           \n",
            "  inflating: ORL/s36/6.pgm           \n",
            "  inflating: ORL/s36/7.pgm           \n",
            "  inflating: ORL/s36/8.pgm           \n",
            "  inflating: ORL/s36/9.pgm           \n",
            "  inflating: ORL/s37/1.pgm           \n",
            "  inflating: ORL/s37/10.pgm          \n",
            "  inflating: ORL/s37/2.pgm           \n",
            "  inflating: ORL/s37/3.pgm           \n",
            "  inflating: ORL/s37/4.pgm           \n",
            "  inflating: ORL/s37/5.pgm           \n",
            "  inflating: ORL/s37/6.pgm           \n",
            "  inflating: ORL/s37/7.pgm           \n",
            "  inflating: ORL/s37/8.pgm           \n",
            "  inflating: ORL/s37/9.pgm           \n",
            "  inflating: ORL/s38/1.pgm           \n",
            "  inflating: ORL/s38/10.pgm          \n",
            "  inflating: ORL/s38/2.pgm           \n",
            "  inflating: ORL/s38/3.pgm           \n",
            "  inflating: ORL/s38/4.pgm           \n",
            "  inflating: ORL/s38/5.pgm           \n",
            "  inflating: ORL/s38/6.pgm           \n",
            "  inflating: ORL/s38/7.pgm           \n",
            "  inflating: ORL/s38/8.pgm           \n",
            "  inflating: ORL/s38/9.pgm           \n",
            "  inflating: ORL/s39/1.pgm           \n",
            "  inflating: ORL/s39/10.pgm          \n",
            "  inflating: ORL/s39/2.pgm           \n",
            "  inflating: ORL/s39/3.pgm           \n",
            "  inflating: ORL/s39/4.pgm           \n",
            "  inflating: ORL/s39/5.pgm           \n",
            "  inflating: ORL/s39/6.pgm           \n",
            "  inflating: ORL/s39/7.pgm           \n",
            "  inflating: ORL/s39/8.pgm           \n",
            "  inflating: ORL/s39/9.pgm           \n",
            "  inflating: ORL/s4/1.pgm            \n",
            "  inflating: ORL/s4/10.pgm           \n",
            "  inflating: ORL/s4/2.pgm            \n",
            "  inflating: ORL/s4/3.pgm            \n",
            "  inflating: ORL/s4/4.pgm            \n",
            "  inflating: ORL/s4/5.pgm            \n",
            "  inflating: ORL/s4/6.pgm            \n",
            "  inflating: ORL/s4/7.pgm            \n",
            "  inflating: ORL/s4/8.pgm            \n",
            "  inflating: ORL/s4/9.pgm            \n",
            "  inflating: ORL/s40/1.pgm           \n",
            "  inflating: ORL/s40/10.pgm          \n",
            "  inflating: ORL/s40/2.pgm           \n",
            "  inflating: ORL/s40/3.pgm           \n",
            "  inflating: ORL/s40/4.pgm           \n",
            "  inflating: ORL/s40/5.pgm           \n",
            "  inflating: ORL/s40/6.pgm           \n",
            "  inflating: ORL/s40/7.pgm           \n",
            "  inflating: ORL/s40/8.pgm           \n",
            "  inflating: ORL/s40/9.pgm           \n",
            "  inflating: ORL/s5/1.pgm            \n",
            "  inflating: ORL/s5/10.pgm           \n",
            "  inflating: ORL/s5/2.pgm            \n",
            "  inflating: ORL/s5/3.pgm            \n",
            "  inflating: ORL/s5/4.pgm            \n",
            "  inflating: ORL/s5/5.pgm            \n",
            "  inflating: ORL/s5/6.pgm            \n",
            "  inflating: ORL/s5/7.pgm            \n",
            "  inflating: ORL/s5/8.pgm            \n",
            "  inflating: ORL/s5/9.pgm            \n",
            "  inflating: ORL/s6/1.pgm            \n",
            "  inflating: ORL/s6/10.pgm           \n",
            "  inflating: ORL/s6/2.pgm            \n",
            "  inflating: ORL/s6/3.pgm            \n",
            "  inflating: ORL/s6/4.pgm            \n",
            "  inflating: ORL/s6/5.pgm            \n",
            "  inflating: ORL/s6/6.pgm            \n",
            "  inflating: ORL/s6/7.pgm            \n",
            "  inflating: ORL/s6/8.pgm            \n",
            "  inflating: ORL/s6/9.pgm            \n",
            "  inflating: ORL/s7/1.pgm            \n",
            "  inflating: ORL/s7/10.pgm           \n",
            "  inflating: ORL/s7/2.pgm            \n",
            "  inflating: ORL/s7/3.pgm            \n",
            "  inflating: ORL/s7/4.pgm            \n",
            "  inflating: ORL/s7/5.pgm            \n",
            "  inflating: ORL/s7/6.pgm            \n",
            "  inflating: ORL/s7/7.pgm            \n",
            "  inflating: ORL/s7/8.pgm            \n",
            "  inflating: ORL/s7/9.pgm            \n",
            "  inflating: ORL/s8/1.pgm            \n",
            "  inflating: ORL/s8/10.pgm           \n",
            "  inflating: ORL/s8/2.pgm            \n",
            "  inflating: ORL/s8/3.pgm            \n",
            "  inflating: ORL/s8/4.pgm            \n",
            "  inflating: ORL/s8/5.pgm            \n",
            "  inflating: ORL/s8/6.pgm            \n",
            "  inflating: ORL/s8/7.pgm            \n",
            "  inflating: ORL/s8/8.pgm            \n",
            "  inflating: ORL/s8/9.pgm            \n",
            "  inflating: ORL/s9/1.pgm            \n",
            "  inflating: ORL/s9/10.pgm           \n",
            "  inflating: ORL/s9/2.pgm            \n",
            "  inflating: ORL/s9/3.pgm            \n",
            "  inflating: ORL/s9/4.pgm            \n",
            "  inflating: ORL/s9/5.pgm            \n",
            "  inflating: ORL/s9/6.pgm            \n",
            "  inflating: ORL/s9/7.pgm            \n",
            "  inflating: ORL/s9/8.pgm            \n",
            "  inflating: ORL/s9/9.pgm            \n"
          ],
          "name": "stdout"
        }
      ]
    },
    {
      "cell_type": "code",
      "metadata": {
        "colab": {
          "base_uri": "https://localhost:8080/"
        },
        "id": "WNTAIMDi-aiH",
        "outputId": "a8935938-a644-4ca0-ec6f-69e7541e57ba"
      },
      "source": [
        "import os\n",
        "from skimage.io import imread\n",
        "import numpy as np\n",
        "os.chdir('/content/ORL')\n",
        "directory = os.getcwd()\n",
        "files=os.listdir(directory)\n",
        "files.remove('README')\n",
        "# files.remove('.ipynb_checkpoints')\n",
        "# files.remove('kaggle.json')\n",
        "files = sorted(files, key=lambda x: int(x[1:]))\n",
        "Dataset=[]\n",
        "y=[]\n",
        " \n",
        "Y=0\n",
        " \n",
        "for filename in files:\n",
        "    Y+=1\n",
        "    each_file=os.listdir(filename)\n",
        "    each_file.sort()\n",
        "    each_file = sorted(each_file, key=lambda x: int(x[:-4]))\n",
        "    for image in each_file:\n",
        "      img = imread(os.getcwd()+'/'+filename+'/'+image)\n",
        "      Dataset.append(img.flatten())\n",
        "      y.append(Y)\n",
        " \n",
        "y=np.array(y)\n",
        "Dataset=np.array(Dataset)\n",
        "print(np.shape(y))"
      ],
      "execution_count": null,
      "outputs": [
        {
          "output_type": "stream",
          "text": [
            "(400,)\n"
          ],
          "name": "stdout"
        }
      ]
    },
    {
      "cell_type": "markdown",
      "metadata": {
        "id": "2AmTJ_jMAP5y"
      },
      "source": [
        "Splitting dataset"
      ]
    },
    {
      "cell_type": "code",
      "metadata": {
        "colab": {
          "base_uri": "https://localhost:8080/"
        },
        "id": "IjOR49cGASPt",
        "outputId": "037cebcc-4f48-4ecf-a50e-e44243b877d5"
      },
      "source": [
        "train_x=Dataset[::2]\n",
        "train_y=y[::2]\n",
        "test_x=Dataset[1::2]\n",
        "test_y=y[1::2]\n",
        "print(np.shape(train_x))\n",
        "print(np.shape(train_y))\n",
        "print(np.shape(test_x))\n",
        "print(np.shape(test_y))"
      ],
      "execution_count": null,
      "outputs": [
        {
          "output_type": "stream",
          "text": [
            "(200, 10304)\n",
            "(200,)\n",
            "(200, 10304)\n",
            "(200,)\n"
          ],
          "name": "stdout"
        }
      ]
    },
    {
      "cell_type": "markdown",
      "metadata": {
        "id": "bOyYPDS_CZp2"
      },
      "source": [
        "Naive bayes"
      ]
    },
    {
      "cell_type": "code",
      "metadata": {
        "colab": {
          "base_uri": "https://localhost:8080/",
          "height": 734
        },
        "id": "vVjmrU9VCVc-",
        "outputId": "e9c031fa-889b-4fbb-e187-c055f39c955e"
      },
      "source": [
        "from sklearn.naive_bayes import GaussianNB\n",
        "from sklearn import metrics\n",
        "from sklearn.metrics import confusion_matrix\n",
        "import matplotlib.pyplot as plt\n",
        "\n",
        "gnb = GaussianNB()\n",
        "gnb.fit(train_x, train_y)\n",
        "y_pred = gnb.predict(test_x)\n",
        "print(\"Accuracy:\",metrics.accuracy_score(test_y, y_pred))\n",
        "confusionMatrix=confusion_matrix(test_y, y_pred)\n",
        "print(confusionMatrix)\n",
        "x=np.linspace(0,200,200)\n",
        "plt.figure(figsize=(10, 10))\n",
        "plt.scatter(x,test_y,color='blue',label='actual')\n",
        "plt.scatter(x,y_pred,color='red',label='predicted',marker='^')\n",
        "plt.legend()\n",
        "plt.show()"
      ],
      "execution_count": null,
      "outputs": [
        {
          "output_type": "stream",
          "text": [
            "Accuracy: 0.735\n",
            "[[2 0 0 ... 0 0 0]\n",
            " [0 0 0 ... 0 0 0]\n",
            " [0 0 4 ... 0 0 0]\n",
            " ...\n",
            " [0 0 0 ... 1 0 0]\n",
            " [0 0 0 ... 0 5 0]\n",
            " [0 0 0 ... 0 0 1]]\n"
          ],
          "name": "stdout"
        },
        {
          "output_type": "display_data",
          "data": {
            "image/png": "[encoded data removed]",
            "text/plain": [
              "<Figure size 720x720 with 1 Axes>"
            ]
          },
          "metadata": {
            "tags": [],
            "needs_background": "light"
          }
        }
      ]
    },
    {
      "cell_type": "markdown",
      "metadata": {
        "id": "Z18nTId8TD4G"
      },
      "source": [
        "PCA naive classifier"
      ]
    },
    {
      "cell_type": "code",
      "metadata": {
        "colab": {
          "base_uri": "https://localhost:8080/"
        },
        "id": "FNLsOJDhKdcU",
        "outputId": "3ff4b69f-a629-4cbf-a6e8-a05c1eba5bd8"
      },
      "source": [
        "cardinality = 10/200 #constant for all classes, 200 is the length of training set\n",
        "priorP = np.ones(40) * 4/100\n",
        "print(np.shape(priorP))\n",
        "means=np.mean(train_x.T,axis=0)\n",
        "print(means)\n",
        "means=means[::10]\n",
        "print(means)\n",
        "cov=np.cov(train_x.T)\n",
        "print(np.shape(cov))\n",
        "eigenVal,eigenVec=np.linalg.eigh(cov.T)\n",
        "idx = eigenVal.argsort()[::-1]\n",
        "eigenVal = eigenVal[idx]\n",
        "eigenVec = eigenVec[:,idx]\n",
        "print(eigenVal)\n"
      ],
      "execution_count": null,
      "outputs": [
        {
          "output_type": "stream",
          "text": [
            "(40,)\n",
            "[128.33821817 132.59549689 142.77348602 134.47991071 134.24048913\n",
            " 111.99349767 111.53736413 113.69293478 114.42138975 112.1248059\n",
            " 111.9847632  113.19167314 115.78775233 116.97340839 118.23068711\n",
            " 114.42430124 114.33569488 123.01067547 121.03610248 114.21642081\n",
            " 125.56677019 127.31599379 137.80755047 124.86898292 134.25087345\n",
            " 129.81521739 130.34559394 141.79658385 141.26019022 143.38421972\n",
            " 110.86684783 114.25262034 116.0773486  112.91401398 111.05260093\n",
            " 114.50067935 123.61422748 127.14732143 113.37626165 120.25087345\n",
            " 109.13169643 109.63004658 113.77950311 114.30386258 114.17449534\n",
            "  95.10277562  99.85685171 110.32065217 103.88053183 105.37160326\n",
            " 100.02309783 103.75300854 106.94633152 100.62237966 104.1421778\n",
            " 129.7804736  116.24737966 115.69574922 114.27998835 124.22243789\n",
            " 125.21477096 131.76513975 128.97952252 132.20477484 128.95749224\n",
            " 106.48913043 106.90285326 104.97932842 100.10238742  95.02241848\n",
            " 111.39343944 110.01746894 113.44613742 114.29241071 113.35568711\n",
            " 102.67274845 122.5617236  132.34704969 124.51232531 122.45361025\n",
            " 116.37354425 110.55366848 115.30861801 116.60296972 116.19225543\n",
            " 137.13334627 134.68216227 134.41653727 136.87412655 135.9363354\n",
            " 119.21593556 124.48728649 124.40595885 121.05250388 111.86413043\n",
            "  97.06715839  95.56075311 110.97146739 109.09763199 112.17925078\n",
            "  97.4203222   93.42459239 104.80716227 105.37218556 102.32375776\n",
            "  85.08753882  86.56075311  89.62315606  84.35394022  83.30803571\n",
            " 114.20516304 108.30172748 107.32958075 109.81647904 112.65227096\n",
            " 105.94788432  99.40440606 101.39276009 109.29600155  96.52067158\n",
            " 124.23874224 126.27668866 121.70846273 126.2957104  123.11607143\n",
            " 119.00834627 121.85723991 115.66352873 125.58909161 120.11820652\n",
            " 117.16207298 120.68420031 118.4832104  106.91585792 109.11607143\n",
            " 113.12131211 111.04862189 110.73029891 111.63441382 112.86432453\n",
            "  86.23059006  85.1265528   98.89392469  97.97602873  81.2964868\n",
            " 102.64392469 101.33132764  94.35364907  96.49233307 101.03037655\n",
            " 102.67730978 111.04998059 112.61733307 100.20118401 103.14111025\n",
            " 131.73670419 129.03561724 127.37470885 116.58588898 122.18944099\n",
            "  90.56298525  88.94778727  94.28270575  93.28852873  95.98903339\n",
            "  98.97049689 101.29464286  96.88703416  96.70380435  94.68458851\n",
            " 116.64169255 113.91362578 126.74611801 126.07637811 126.6105396\n",
            " 126.94351708 103.9367236  124.93837345 111.671875   108.90673525\n",
            " 114.75708463 114.97389363 100.19060559 114.10054348 116.50824922\n",
            " 109.37053571 105.06492624 105.41750776 106.18245342 113.09666149\n",
            "  86.58812112  77.01649845  86.36791537  88.46273292  85.88024068\n",
            " 119.44186724 127.00630823 128.95079581 127.84889363 130.19371118]\n",
            "[128.33821817 111.9847632  125.56677019 110.86684783 109.13169643\n",
            " 100.02309783 125.21477096 111.39343944 116.37354425 119.21593556\n",
            "  97.4203222  114.20516304 124.23874224 117.16207298  86.23059006\n",
            " 102.67730978  90.56298525 116.64169255 114.75708463  86.58812112]\n",
            "(10304, 10304)\n",
            "[ 2.90790760e+06  2.02738729e+06  1.15401195e+06 ... -1.19011138e-09\n",
            " -1.56761214e-09 -1.87864987e-09]\n"
          ],
          "name": "stdout"
        }
      ]
    }
  ]
}